{
 "cells": [
  {
   "cell_type": "code",
   "execution_count": 1,
   "id": "a006aa9c",
   "metadata": {},
   "outputs": [],
   "source": [
    "import pandas as pd\n",
    "import numpy as np"
   ]
  },
  {
   "cell_type": "code",
   "execution_count": 2,
   "id": "3f02fc3a",
   "metadata": {},
   "outputs": [
    {
     "data": {
      "text/html": [
       "<div>\n",
       "<style scoped>\n",
       "    .dataframe tbody tr th:only-of-type {\n",
       "        vertical-align: middle;\n",
       "    }\n",
       "\n",
       "    .dataframe tbody tr th {\n",
       "        vertical-align: top;\n",
       "    }\n",
       "\n",
       "    .dataframe thead th {\n",
       "        text-align: right;\n",
       "    }\n",
       "</style>\n",
       "<table border=\"1\" class=\"dataframe\">\n",
       "  <thead>\n",
       "    <tr style=\"text-align: right;\">\n",
       "      <th></th>\n",
       "      <th>Unnamed: 0</th>\n",
       "      <th>carat</th>\n",
       "      <th>cut</th>\n",
       "      <th>color</th>\n",
       "      <th>clarity</th>\n",
       "      <th>depth</th>\n",
       "      <th>table</th>\n",
       "      <th>price</th>\n",
       "      <th>x</th>\n",
       "      <th>y</th>\n",
       "      <th>z</th>\n",
       "    </tr>\n",
       "  </thead>\n",
       "  <tbody>\n",
       "    <tr>\n",
       "      <th>0</th>\n",
       "      <td>1</td>\n",
       "      <td>0.23</td>\n",
       "      <td>Ideal</td>\n",
       "      <td>E</td>\n",
       "      <td>SI2</td>\n",
       "      <td>61.5</td>\n",
       "      <td>55.0</td>\n",
       "      <td>326</td>\n",
       "      <td>3.95</td>\n",
       "      <td>3.98</td>\n",
       "      <td>2.43</td>\n",
       "    </tr>\n",
       "    <tr>\n",
       "      <th>1</th>\n",
       "      <td>2</td>\n",
       "      <td>0.21</td>\n",
       "      <td>Premium</td>\n",
       "      <td>E</td>\n",
       "      <td>SI1</td>\n",
       "      <td>59.8</td>\n",
       "      <td>61.0</td>\n",
       "      <td>326</td>\n",
       "      <td>3.89</td>\n",
       "      <td>3.84</td>\n",
       "      <td>2.31</td>\n",
       "    </tr>\n",
       "    <tr>\n",
       "      <th>2</th>\n",
       "      <td>3</td>\n",
       "      <td>0.23</td>\n",
       "      <td>Good</td>\n",
       "      <td>E</td>\n",
       "      <td>VS1</td>\n",
       "      <td>56.9</td>\n",
       "      <td>65.0</td>\n",
       "      <td>327</td>\n",
       "      <td>4.05</td>\n",
       "      <td>4.07</td>\n",
       "      <td>2.31</td>\n",
       "    </tr>\n",
       "    <tr>\n",
       "      <th>3</th>\n",
       "      <td>4</td>\n",
       "      <td>0.29</td>\n",
       "      <td>Premium</td>\n",
       "      <td>I</td>\n",
       "      <td>VS2</td>\n",
       "      <td>62.4</td>\n",
       "      <td>58.0</td>\n",
       "      <td>334</td>\n",
       "      <td>4.20</td>\n",
       "      <td>4.23</td>\n",
       "      <td>2.63</td>\n",
       "    </tr>\n",
       "    <tr>\n",
       "      <th>4</th>\n",
       "      <td>5</td>\n",
       "      <td>0.31</td>\n",
       "      <td>Good</td>\n",
       "      <td>J</td>\n",
       "      <td>SI2</td>\n",
       "      <td>63.3</td>\n",
       "      <td>58.0</td>\n",
       "      <td>335</td>\n",
       "      <td>4.34</td>\n",
       "      <td>4.35</td>\n",
       "      <td>2.75</td>\n",
       "    </tr>\n",
       "  </tbody>\n",
       "</table>\n",
       "</div>"
      ],
      "text/plain": [
       "   Unnamed: 0  carat      cut color clarity  depth  table  price     x     y  \\\n",
       "0           1   0.23    Ideal     E     SI2   61.5   55.0    326  3.95  3.98   \n",
       "1           2   0.21  Premium     E     SI1   59.8   61.0    326  3.89  3.84   \n",
       "2           3   0.23     Good     E     VS1   56.9   65.0    327  4.05  4.07   \n",
       "3           4   0.29  Premium     I     VS2   62.4   58.0    334  4.20  4.23   \n",
       "4           5   0.31     Good     J     SI2   63.3   58.0    335  4.34  4.35   \n",
       "\n",
       "      z  \n",
       "0  2.43  \n",
       "1  2.31  \n",
       "2  2.31  \n",
       "3  2.63  \n",
       "4  2.75  "
      ]
     },
     "execution_count": 2,
     "metadata": {},
     "output_type": "execute_result"
    }
   ],
   "source": [
    "diamond = pd.read_csv(\"diamonds.csv\")\n",
    "diamond.head()"
   ]
  },
  {
   "cell_type": "code",
   "execution_count": 3,
   "id": "21a54999",
   "metadata": {},
   "outputs": [
    {
     "data": {
      "text/plain": [
       "(53940, 11)"
      ]
     },
     "execution_count": 3,
     "metadata": {},
     "output_type": "execute_result"
    }
   ],
   "source": [
    "diamond.shape"
   ]
  },
  {
   "cell_type": "code",
   "execution_count": 4,
   "id": "d1551538",
   "metadata": {},
   "outputs": [],
   "source": [
    "# Rename columns\n",
    "diamond.rename(columns = {\n",
    "    \"carat\": \"weight\",\n",
    "    \"x\": \"length\",\n",
    "    \"y\": \"width\",\n",
    "    \"z\": \"depth\",\n",
    "    \"cut\": \"quality\",\n",
    "    \"depth\": \"depth(percentage)\"\n",
    "}, inplace=True)"
   ]
  },
  {
   "cell_type": "code",
   "execution_count": 5,
   "id": "fcb23f92",
   "metadata": {},
   "outputs": [
    {
     "data": {
      "text/html": [
       "<div>\n",
       "<style scoped>\n",
       "    .dataframe tbody tr th:only-of-type {\n",
       "        vertical-align: middle;\n",
       "    }\n",
       "\n",
       "    .dataframe tbody tr th {\n",
       "        vertical-align: top;\n",
       "    }\n",
       "\n",
       "    .dataframe thead th {\n",
       "        text-align: right;\n",
       "    }\n",
       "</style>\n",
       "<table border=\"1\" class=\"dataframe\">\n",
       "  <thead>\n",
       "    <tr style=\"text-align: right;\">\n",
       "      <th></th>\n",
       "      <th>Unnamed: 0</th>\n",
       "      <th>weight</th>\n",
       "      <th>quality</th>\n",
       "      <th>color</th>\n",
       "      <th>clarity</th>\n",
       "      <th>depth(percentage)</th>\n",
       "      <th>table</th>\n",
       "      <th>price</th>\n",
       "      <th>length</th>\n",
       "      <th>width</th>\n",
       "      <th>depth</th>\n",
       "    </tr>\n",
       "  </thead>\n",
       "  <tbody>\n",
       "    <tr>\n",
       "      <th>0</th>\n",
       "      <td>1</td>\n",
       "      <td>0.23</td>\n",
       "      <td>Ideal</td>\n",
       "      <td>E</td>\n",
       "      <td>SI2</td>\n",
       "      <td>61.5</td>\n",
       "      <td>55.0</td>\n",
       "      <td>326</td>\n",
       "      <td>3.95</td>\n",
       "      <td>3.98</td>\n",
       "      <td>2.43</td>\n",
       "    </tr>\n",
       "    <tr>\n",
       "      <th>1</th>\n",
       "      <td>2</td>\n",
       "      <td>0.21</td>\n",
       "      <td>Premium</td>\n",
       "      <td>E</td>\n",
       "      <td>SI1</td>\n",
       "      <td>59.8</td>\n",
       "      <td>61.0</td>\n",
       "      <td>326</td>\n",
       "      <td>3.89</td>\n",
       "      <td>3.84</td>\n",
       "      <td>2.31</td>\n",
       "    </tr>\n",
       "    <tr>\n",
       "      <th>2</th>\n",
       "      <td>3</td>\n",
       "      <td>0.23</td>\n",
       "      <td>Good</td>\n",
       "      <td>E</td>\n",
       "      <td>VS1</td>\n",
       "      <td>56.9</td>\n",
       "      <td>65.0</td>\n",
       "      <td>327</td>\n",
       "      <td>4.05</td>\n",
       "      <td>4.07</td>\n",
       "      <td>2.31</td>\n",
       "    </tr>\n",
       "    <tr>\n",
       "      <th>3</th>\n",
       "      <td>4</td>\n",
       "      <td>0.29</td>\n",
       "      <td>Premium</td>\n",
       "      <td>I</td>\n",
       "      <td>VS2</td>\n",
       "      <td>62.4</td>\n",
       "      <td>58.0</td>\n",
       "      <td>334</td>\n",
       "      <td>4.20</td>\n",
       "      <td>4.23</td>\n",
       "      <td>2.63</td>\n",
       "    </tr>\n",
       "    <tr>\n",
       "      <th>4</th>\n",
       "      <td>5</td>\n",
       "      <td>0.31</td>\n",
       "      <td>Good</td>\n",
       "      <td>J</td>\n",
       "      <td>SI2</td>\n",
       "      <td>63.3</td>\n",
       "      <td>58.0</td>\n",
       "      <td>335</td>\n",
       "      <td>4.34</td>\n",
       "      <td>4.35</td>\n",
       "      <td>2.75</td>\n",
       "    </tr>\n",
       "  </tbody>\n",
       "</table>\n",
       "</div>"
      ],
      "text/plain": [
       "   Unnamed: 0  weight  quality color clarity  depth(percentage)  table  price  \\\n",
       "0           1    0.23    Ideal     E     SI2               61.5   55.0    326   \n",
       "1           2    0.21  Premium     E     SI1               59.8   61.0    326   \n",
       "2           3    0.23     Good     E     VS1               56.9   65.0    327   \n",
       "3           4    0.29  Premium     I     VS2               62.4   58.0    334   \n",
       "4           5    0.31     Good     J     SI2               63.3   58.0    335   \n",
       "\n",
       "   length  width  depth  \n",
       "0    3.95   3.98   2.43  \n",
       "1    3.89   3.84   2.31  \n",
       "2    4.05   4.07   2.31  \n",
       "3    4.20   4.23   2.63  \n",
       "4    4.34   4.35   2.75  "
      ]
     },
     "execution_count": 5,
     "metadata": {},
     "output_type": "execute_result"
    }
   ],
   "source": [
    "diamond.head()"
   ]
  },
  {
   "cell_type": "code",
   "execution_count": 6,
   "id": "569ff20a",
   "metadata": {},
   "outputs": [
    {
     "data": {
      "text/plain": [
       "Unnamed: 0           0\n",
       "weight               0\n",
       "quality              0\n",
       "color                0\n",
       "clarity              0\n",
       "depth(percentage)    0\n",
       "table                0\n",
       "price                0\n",
       "length               0\n",
       "width                0\n",
       "depth                0\n",
       "dtype: int64"
      ]
     },
     "execution_count": 6,
     "metadata": {},
     "output_type": "execute_result"
    }
   ],
   "source": [
    "# Missing values\n",
    "diamond.isna().sum()"
   ]
  },
  {
   "cell_type": "code",
   "execution_count": 7,
   "id": "e24f33e4",
   "metadata": {},
   "outputs": [
    {
     "name": "stdout",
     "output_type": "stream",
     "text": [
      "<class 'pandas.core.frame.DataFrame'>\n",
      "RangeIndex: 53940 entries, 0 to 53939\n",
      "Data columns (total 11 columns):\n",
      " #   Column             Non-Null Count  Dtype  \n",
      "---  ------             --------------  -----  \n",
      " 0   Unnamed: 0         53940 non-null  int64  \n",
      " 1   weight             53940 non-null  float64\n",
      " 2   quality            53940 non-null  object \n",
      " 3   color              53940 non-null  object \n",
      " 4   clarity            53940 non-null  object \n",
      " 5   depth(percentage)  53940 non-null  float64\n",
      " 6   table              53940 non-null  float64\n",
      " 7   price              53940 non-null  int64  \n",
      " 8   length             53940 non-null  float64\n",
      " 9   width              53940 non-null  float64\n",
      " 10  depth              53940 non-null  float64\n",
      "dtypes: float64(6), int64(2), object(3)\n",
      "memory usage: 4.5+ MB\n"
     ]
    }
   ],
   "source": [
    "# Data information\n",
    "diamond.info()"
   ]
  },
  {
   "cell_type": "code",
   "execution_count": 8,
   "id": "d404f903",
   "metadata": {},
   "outputs": [
    {
     "data": {
      "text/html": [
       "<div>\n",
       "<style scoped>\n",
       "    .dataframe tbody tr th:only-of-type {\n",
       "        vertical-align: middle;\n",
       "    }\n",
       "\n",
       "    .dataframe tbody tr th {\n",
       "        vertical-align: top;\n",
       "    }\n",
       "\n",
       "    .dataframe thead th {\n",
       "        text-align: right;\n",
       "    }\n",
       "</style>\n",
       "<table border=\"1\" class=\"dataframe\">\n",
       "  <thead>\n",
       "    <tr style=\"text-align: right;\">\n",
       "      <th></th>\n",
       "      <th>Unnamed: 0</th>\n",
       "      <th>weight</th>\n",
       "      <th>quality</th>\n",
       "      <th>color</th>\n",
       "      <th>clarity</th>\n",
       "      <th>depth(percentage)</th>\n",
       "      <th>table</th>\n",
       "      <th>price</th>\n",
       "      <th>length</th>\n",
       "      <th>width</th>\n",
       "      <th>depth</th>\n",
       "    </tr>\n",
       "  </thead>\n",
       "  <tbody>\n",
       "    <tr>\n",
       "      <th>count</th>\n",
       "      <td>53940.000000</td>\n",
       "      <td>53940.000000</td>\n",
       "      <td>53940</td>\n",
       "      <td>53940</td>\n",
       "      <td>53940</td>\n",
       "      <td>53940.000000</td>\n",
       "      <td>53940.000000</td>\n",
       "      <td>53940.000000</td>\n",
       "      <td>53940.000000</td>\n",
       "      <td>53940.000000</td>\n",
       "      <td>53940.000000</td>\n",
       "    </tr>\n",
       "    <tr>\n",
       "      <th>unique</th>\n",
       "      <td>NaN</td>\n",
       "      <td>NaN</td>\n",
       "      <td>5</td>\n",
       "      <td>7</td>\n",
       "      <td>8</td>\n",
       "      <td>NaN</td>\n",
       "      <td>NaN</td>\n",
       "      <td>NaN</td>\n",
       "      <td>NaN</td>\n",
       "      <td>NaN</td>\n",
       "      <td>NaN</td>\n",
       "    </tr>\n",
       "    <tr>\n",
       "      <th>top</th>\n",
       "      <td>NaN</td>\n",
       "      <td>NaN</td>\n",
       "      <td>Ideal</td>\n",
       "      <td>G</td>\n",
       "      <td>SI1</td>\n",
       "      <td>NaN</td>\n",
       "      <td>NaN</td>\n",
       "      <td>NaN</td>\n",
       "      <td>NaN</td>\n",
       "      <td>NaN</td>\n",
       "      <td>NaN</td>\n",
       "    </tr>\n",
       "    <tr>\n",
       "      <th>freq</th>\n",
       "      <td>NaN</td>\n",
       "      <td>NaN</td>\n",
       "      <td>21551</td>\n",
       "      <td>11292</td>\n",
       "      <td>13065</td>\n",
       "      <td>NaN</td>\n",
       "      <td>NaN</td>\n",
       "      <td>NaN</td>\n",
       "      <td>NaN</td>\n",
       "      <td>NaN</td>\n",
       "      <td>NaN</td>\n",
       "    </tr>\n",
       "    <tr>\n",
       "      <th>mean</th>\n",
       "      <td>26970.500000</td>\n",
       "      <td>0.797940</td>\n",
       "      <td>NaN</td>\n",
       "      <td>NaN</td>\n",
       "      <td>NaN</td>\n",
       "      <td>61.749405</td>\n",
       "      <td>57.457184</td>\n",
       "      <td>3932.799722</td>\n",
       "      <td>5.731157</td>\n",
       "      <td>5.734526</td>\n",
       "      <td>3.538734</td>\n",
       "    </tr>\n",
       "    <tr>\n",
       "      <th>std</th>\n",
       "      <td>15571.281097</td>\n",
       "      <td>0.474011</td>\n",
       "      <td>NaN</td>\n",
       "      <td>NaN</td>\n",
       "      <td>NaN</td>\n",
       "      <td>1.432621</td>\n",
       "      <td>2.234491</td>\n",
       "      <td>3989.439738</td>\n",
       "      <td>1.121761</td>\n",
       "      <td>1.142135</td>\n",
       "      <td>0.705699</td>\n",
       "    </tr>\n",
       "    <tr>\n",
       "      <th>min</th>\n",
       "      <td>1.000000</td>\n",
       "      <td>0.200000</td>\n",
       "      <td>NaN</td>\n",
       "      <td>NaN</td>\n",
       "      <td>NaN</td>\n",
       "      <td>43.000000</td>\n",
       "      <td>43.000000</td>\n",
       "      <td>326.000000</td>\n",
       "      <td>0.000000</td>\n",
       "      <td>0.000000</td>\n",
       "      <td>0.000000</td>\n",
       "    </tr>\n",
       "    <tr>\n",
       "      <th>25%</th>\n",
       "      <td>13485.750000</td>\n",
       "      <td>0.400000</td>\n",
       "      <td>NaN</td>\n",
       "      <td>NaN</td>\n",
       "      <td>NaN</td>\n",
       "      <td>61.000000</td>\n",
       "      <td>56.000000</td>\n",
       "      <td>950.000000</td>\n",
       "      <td>4.710000</td>\n",
       "      <td>4.720000</td>\n",
       "      <td>2.910000</td>\n",
       "    </tr>\n",
       "    <tr>\n",
       "      <th>50%</th>\n",
       "      <td>26970.500000</td>\n",
       "      <td>0.700000</td>\n",
       "      <td>NaN</td>\n",
       "      <td>NaN</td>\n",
       "      <td>NaN</td>\n",
       "      <td>61.800000</td>\n",
       "      <td>57.000000</td>\n",
       "      <td>2401.000000</td>\n",
       "      <td>5.700000</td>\n",
       "      <td>5.710000</td>\n",
       "      <td>3.530000</td>\n",
       "    </tr>\n",
       "    <tr>\n",
       "      <th>75%</th>\n",
       "      <td>40455.250000</td>\n",
       "      <td>1.040000</td>\n",
       "      <td>NaN</td>\n",
       "      <td>NaN</td>\n",
       "      <td>NaN</td>\n",
       "      <td>62.500000</td>\n",
       "      <td>59.000000</td>\n",
       "      <td>5324.250000</td>\n",
       "      <td>6.540000</td>\n",
       "      <td>6.540000</td>\n",
       "      <td>4.040000</td>\n",
       "    </tr>\n",
       "    <tr>\n",
       "      <th>max</th>\n",
       "      <td>53940.000000</td>\n",
       "      <td>5.010000</td>\n",
       "      <td>NaN</td>\n",
       "      <td>NaN</td>\n",
       "      <td>NaN</td>\n",
       "      <td>79.000000</td>\n",
       "      <td>95.000000</td>\n",
       "      <td>18823.000000</td>\n",
       "      <td>10.740000</td>\n",
       "      <td>58.900000</td>\n",
       "      <td>31.800000</td>\n",
       "    </tr>\n",
       "  </tbody>\n",
       "</table>\n",
       "</div>"
      ],
      "text/plain": [
       "          Unnamed: 0        weight quality  color clarity  depth(percentage)  \\\n",
       "count   53940.000000  53940.000000   53940  53940   53940       53940.000000   \n",
       "unique           NaN           NaN       5      7       8                NaN   \n",
       "top              NaN           NaN   Ideal      G     SI1                NaN   \n",
       "freq             NaN           NaN   21551  11292   13065                NaN   \n",
       "mean    26970.500000      0.797940     NaN    NaN     NaN          61.749405   \n",
       "std     15571.281097      0.474011     NaN    NaN     NaN           1.432621   \n",
       "min         1.000000      0.200000     NaN    NaN     NaN          43.000000   \n",
       "25%     13485.750000      0.400000     NaN    NaN     NaN          61.000000   \n",
       "50%     26970.500000      0.700000     NaN    NaN     NaN          61.800000   \n",
       "75%     40455.250000      1.040000     NaN    NaN     NaN          62.500000   \n",
       "max     53940.000000      5.010000     NaN    NaN     NaN          79.000000   \n",
       "\n",
       "               table         price        length         width         depth  \n",
       "count   53940.000000  53940.000000  53940.000000  53940.000000  53940.000000  \n",
       "unique           NaN           NaN           NaN           NaN           NaN  \n",
       "top              NaN           NaN           NaN           NaN           NaN  \n",
       "freq             NaN           NaN           NaN           NaN           NaN  \n",
       "mean       57.457184   3932.799722      5.731157      5.734526      3.538734  \n",
       "std         2.234491   3989.439738      1.121761      1.142135      0.705699  \n",
       "min        43.000000    326.000000      0.000000      0.000000      0.000000  \n",
       "25%        56.000000    950.000000      4.710000      4.720000      2.910000  \n",
       "50%        57.000000   2401.000000      5.700000      5.710000      3.530000  \n",
       "75%        59.000000   5324.250000      6.540000      6.540000      4.040000  \n",
       "max        95.000000  18823.000000     10.740000     58.900000     31.800000  "
      ]
     },
     "execution_count": 8,
     "metadata": {},
     "output_type": "execute_result"
    }
   ],
   "source": [
    "# Summary statistics\n",
    "diamond.describe(include=\"all\")"
   ]
  },
  {
   "cell_type": "markdown",
   "id": "46ea788a",
   "metadata": {},
   "source": [
    "## EDA"
   ]
  },
  {
   "cell_type": "markdown",
   "id": "c79354ff",
   "metadata": {},
   "source": [
    "### 1. Countplots of the categorical data"
   ]
  },
  {
   "cell_type": "code",
   "execution_count": 9,
   "id": "e3532202",
   "metadata": {},
   "outputs": [],
   "source": [
    "import matplotlib.pyplot as plt\n",
    "import seaborn as sns"
   ]
  },
  {
   "cell_type": "code",
   "execution_count": 10,
   "id": "7186565a",
   "metadata": {},
   "outputs": [
    {
     "data": {
      "image/png": "[encoded data removed]",
      "text/plain": [
       "<Figure size 432x288 with 1 Axes>"
      ]
     },
     "metadata": {
      "needs_background": "light"
     },
     "output_type": "display_data"
    },
    {
     "data": {
      "image/png": "[encoded data removed]",
      "text/plain": [
       "<Figure size 432x288 with 1 Axes>"
      ]
     },
     "metadata": {
      "needs_background": "light"
     },
     "output_type": "display_data"
    },
    {
     "data": {
      "image/png": "[encoded data removed]",
      "text/plain": [
       "<Figure size 432x288 with 1 Axes>"
      ]
     },
     "metadata": {
      "needs_background": "light"
     },
     "output_type": "display_data"
    }
   ],
   "source": [
    "cols = [\"quality\", \"color\", \"clarity\"]\n",
    "\n",
    "for col in cols:\n",
    "    sns.countplot(x=col, data=diamond)\n",
    "    plt.title(col.capitalize())\n",
    "    plt.show()"
   ]
  },
  {
   "cell_type": "code",
   "execution_count": 11,
   "id": "2e2e7ceb",
   "metadata": {},
   "outputs": [
    {
     "data": {
      "text/html": [
       "<div>\n",
       "<style scoped>\n",
       "    .dataframe tbody tr th:only-of-type {\n",
       "        vertical-align: middle;\n",
       "    }\n",
       "\n",
       "    .dataframe tbody tr th {\n",
       "        vertical-align: top;\n",
       "    }\n",
       "\n",
       "    .dataframe thead th {\n",
       "        text-align: right;\n",
       "    }\n",
       "</style>\n",
       "<table border=\"1\" class=\"dataframe\">\n",
       "  <thead>\n",
       "    <tr style=\"text-align: right;\">\n",
       "      <th></th>\n",
       "      <th>Unnamed: 0</th>\n",
       "      <th>weight</th>\n",
       "      <th>quality</th>\n",
       "      <th>color</th>\n",
       "      <th>clarity</th>\n",
       "      <th>depth(percentage)</th>\n",
       "      <th>table</th>\n",
       "      <th>price</th>\n",
       "      <th>length</th>\n",
       "      <th>width</th>\n",
       "      <th>depth</th>\n",
       "    </tr>\n",
       "  </thead>\n",
       "  <tbody>\n",
       "    <tr>\n",
       "      <th>0</th>\n",
       "      <td>1</td>\n",
       "      <td>0.23</td>\n",
       "      <td>Ideal</td>\n",
       "      <td>E</td>\n",
       "      <td>SI2</td>\n",
       "      <td>61.5</td>\n",
       "      <td>55.0</td>\n",
       "      <td>326</td>\n",
       "      <td>3.95</td>\n",
       "      <td>3.98</td>\n",
       "      <td>2.43</td>\n",
       "    </tr>\n",
       "    <tr>\n",
       "      <th>1</th>\n",
       "      <td>2</td>\n",
       "      <td>0.21</td>\n",
       "      <td>Premium</td>\n",
       "      <td>E</td>\n",
       "      <td>SI1</td>\n",
       "      <td>59.8</td>\n",
       "      <td>61.0</td>\n",
       "      <td>326</td>\n",
       "      <td>3.89</td>\n",
       "      <td>3.84</td>\n",
       "      <td>2.31</td>\n",
       "    </tr>\n",
       "    <tr>\n",
       "      <th>2</th>\n",
       "      <td>3</td>\n",
       "      <td>0.23</td>\n",
       "      <td>Good</td>\n",
       "      <td>E</td>\n",
       "      <td>VS1</td>\n",
       "      <td>56.9</td>\n",
       "      <td>65.0</td>\n",
       "      <td>327</td>\n",
       "      <td>4.05</td>\n",
       "      <td>4.07</td>\n",
       "      <td>2.31</td>\n",
       "    </tr>\n",
       "    <tr>\n",
       "      <th>3</th>\n",
       "      <td>4</td>\n",
       "      <td>0.29</td>\n",
       "      <td>Premium</td>\n",
       "      <td>I</td>\n",
       "      <td>VS2</td>\n",
       "      <td>62.4</td>\n",
       "      <td>58.0</td>\n",
       "      <td>334</td>\n",
       "      <td>4.20</td>\n",
       "      <td>4.23</td>\n",
       "      <td>2.63</td>\n",
       "    </tr>\n",
       "    <tr>\n",
       "      <th>4</th>\n",
       "      <td>5</td>\n",
       "      <td>0.31</td>\n",
       "      <td>Good</td>\n",
       "      <td>J</td>\n",
       "      <td>SI2</td>\n",
       "      <td>63.3</td>\n",
       "      <td>58.0</td>\n",
       "      <td>335</td>\n",
       "      <td>4.34</td>\n",
       "      <td>4.35</td>\n",
       "      <td>2.75</td>\n",
       "    </tr>\n",
       "  </tbody>\n",
       "</table>\n",
       "</div>"
      ],
      "text/plain": [
       "   Unnamed: 0  weight  quality color clarity  depth(percentage)  table  price  \\\n",
       "0           1    0.23    Ideal     E     SI2               61.5   55.0    326   \n",
       "1           2    0.21  Premium     E     SI1               59.8   61.0    326   \n",
       "2           3    0.23     Good     E     VS1               56.9   65.0    327   \n",
       "3           4    0.29  Premium     I     VS2               62.4   58.0    334   \n",
       "4           5    0.31     Good     J     SI2               63.3   58.0    335   \n",
       "\n",
       "   length  width  depth  \n",
       "0    3.95   3.98   2.43  \n",
       "1    3.89   3.84   2.31  \n",
       "2    4.05   4.07   2.31  \n",
       "3    4.20   4.23   2.63  \n",
       "4    4.34   4.35   2.75  "
      ]
     },
     "execution_count": 11,
     "metadata": {},
     "output_type": "execute_result"
    }
   ],
   "source": [
    "diamond.head()"
   ]
  },
  {
   "cell_type": "markdown",
   "id": "a7dcfc44",
   "metadata": {},
   "source": [
    "### 2. Barplots"
   ]
  },
  {
   "cell_type": "code",
   "execution_count": 12,
   "id": "094dd0be",
   "metadata": {},
   "outputs": [
    {
     "data": {
      "image/png": "[encoded data removed]",
      "text/plain": [
       "<Figure size 432x288 with 1 Axes>"
      ]
     },
     "metadata": {
      "needs_background": "light"
     },
     "output_type": "display_data"
    },
    {
     "data": {
      "image/png": "[encoded data removed]",
      "text/plain": [
       "<Figure size 432x288 with 1 Axes>"
      ]
     },
     "metadata": {
      "needs_background": "light"
     },
     "output_type": "display_data"
    },
    {
     "data": {
      "image/png": "[encoded data removed]",
      "text/plain": [
       "<Figure size 432x288 with 1 Axes>"
      ]
     },
     "metadata": {
      "needs_background": "light"
     },
     "output_type": "display_data"
    }
   ],
   "source": [
    "# How prices of each quality, color and clarity differ\n",
    "cols = [\"quality\", \"color\", \"clarity\"]\n",
    "\n",
    "for col in cols:\n",
    "    sns.barplot(data=diamond, y=col, x=\"price\", capsize=0.2)\n",
    "    plt.show()"
   ]
  },
  {
   "cell_type": "markdown",
   "id": "d2ded0fe",
   "metadata": {},
   "source": [
    "### 3. Scatterplots"
   ]
  },
  {
   "cell_type": "code",
   "execution_count": 13,
   "id": "9755dee5",
   "metadata": {},
   "outputs": [
    {
     "data": {
      "image/png": "[encoded data removed]",
      "text/plain": [
       "<Figure size 432x288 with 1 Axes>"
      ]
     },
     "metadata": {
      "needs_background": "light"
     },
     "output_type": "display_data"
    }
   ],
   "source": [
    "# Are weight and price correlated?\n",
    "diamond_sample = diamond.sample(n = int(diamond.shape[0] * 0.0115))\n",
    "\n",
    "plt.scatter(x=diamond_sample[\"weight\"], y=diamond_sample[\"price\"])\n",
    "plt.xlabel(\"Weight\")\n",
    "plt.ylabel(\"Price\")\n",
    "plt.show()"
   ]
  },
  {
   "cell_type": "markdown",
   "id": "2a73c5b1",
   "metadata": {},
   "source": [
    "## Predictions\n",
    "\n",
    "### 1. Using `Ridge Regression`"
   ]
  },
  {
   "cell_type": "markdown",
   "id": "130120b2",
   "metadata": {},
   "source": [
    "Change categorical data to numerical data"
   ]
  },
  {
   "cell_type": "code",
   "execution_count": 18,
   "id": "64cbdcd4",
   "metadata": {},
   "outputs": [],
   "source": [
    "diamond = pd.get_dummies(data=diamond, columns=[\"quality\", \"color\", \"clarity\"])"
   ]
  },
  {
   "cell_type": "code",
   "execution_count": 19,
   "id": "070e8c97",
   "metadata": {},
   "outputs": [
    {
     "data": {
      "text/html": [
       "<div>\n",
       "<style scoped>\n",
       "    .dataframe tbody tr th:only-of-type {\n",
       "        vertical-align: middle;\n",
       "    }\n",
       "\n",
       "    .dataframe tbody tr th {\n",
       "        vertical-align: top;\n",
       "    }\n",
       "\n",
       "    .dataframe thead th {\n",
       "        text-align: right;\n",
       "    }\n",
       "</style>\n",
       "<table border=\"1\" class=\"dataframe\">\n",
       "  <thead>\n",
       "    <tr style=\"text-align: right;\">\n",
       "      <th></th>\n",
       "      <th>Unnamed: 0</th>\n",
       "      <th>weight</th>\n",
       "      <th>depth(percentage)</th>\n",
       "      <th>table</th>\n",
       "      <th>price</th>\n",
       "      <th>length</th>\n",
       "      <th>width</th>\n",
       "      <th>depth</th>\n",
       "      <th>quality_Fair</th>\n",
       "      <th>quality_Good</th>\n",
       "      <th>...</th>\n",
       "      <th>color_I</th>\n",
       "      <th>color_J</th>\n",
       "      <th>clarity_I1</th>\n",
       "      <th>clarity_IF</th>\n",
       "      <th>clarity_SI1</th>\n",
       "      <th>clarity_SI2</th>\n",
       "      <th>clarity_VS1</th>\n",
       "      <th>clarity_VS2</th>\n",
       "      <th>clarity_VVS1</th>\n",
       "      <th>clarity_VVS2</th>\n",
       "    </tr>\n",
       "  </thead>\n",
       "  <tbody>\n",
       "    <tr>\n",
       "      <th>0</th>\n",
       "      <td>1</td>\n",
       "      <td>0.23</td>\n",
       "      <td>61.5</td>\n",
       "      <td>55.0</td>\n",
       "      <td>326</td>\n",
       "      <td>3.95</td>\n",
       "      <td>3.98</td>\n",
       "      <td>2.43</td>\n",
       "      <td>0</td>\n",
       "      <td>0</td>\n",
       "      <td>...</td>\n",
       "      <td>0</td>\n",
       "      <td>0</td>\n",
       "      <td>0</td>\n",
       "      <td>0</td>\n",
       "      <td>0</td>\n",
       "      <td>1</td>\n",
       "      <td>0</td>\n",
       "      <td>0</td>\n",
       "      <td>0</td>\n",
       "      <td>0</td>\n",
       "    </tr>\n",
       "    <tr>\n",
       "      <th>1</th>\n",
       "      <td>2</td>\n",
       "      <td>0.21</td>\n",
       "      <td>59.8</td>\n",
       "      <td>61.0</td>\n",
       "      <td>326</td>\n",
       "      <td>3.89</td>\n",
       "      <td>3.84</td>\n",
       "      <td>2.31</td>\n",
       "      <td>0</td>\n",
       "      <td>0</td>\n",
       "      <td>...</td>\n",
       "      <td>0</td>\n",
       "      <td>0</td>\n",
       "      <td>0</td>\n",
       "      <td>0</td>\n",
       "      <td>1</td>\n",
       "      <td>0</td>\n",
       "      <td>0</td>\n",
       "      <td>0</td>\n",
       "      <td>0</td>\n",
       "      <td>0</td>\n",
       "    </tr>\n",
       "    <tr>\n",
       "      <th>2</th>\n",
       "      <td>3</td>\n",
       "      <td>0.23</td>\n",
       "      <td>56.9</td>\n",
       "      <td>65.0</td>\n",
       "      <td>327</td>\n",
       "      <td>4.05</td>\n",
       "      <td>4.07</td>\n",
       "      <td>2.31</td>\n",
       "      <td>0</td>\n",
       "      <td>1</td>\n",
       "      <td>...</td>\n",
       "      <td>0</td>\n",
       "      <td>0</td>\n",
       "      <td>0</td>\n",
       "      <td>0</td>\n",
       "      <td>0</td>\n",
       "      <td>0</td>\n",
       "      <td>1</td>\n",
       "      <td>0</td>\n",
       "      <td>0</td>\n",
       "      <td>0</td>\n",
       "    </tr>\n",
       "    <tr>\n",
       "      <th>3</th>\n",
       "      <td>4</td>\n",
       "      <td>0.29</td>\n",
       "      <td>62.4</td>\n",
       "      <td>58.0</td>\n",
       "      <td>334</td>\n",
       "      <td>4.20</td>\n",
       "      <td>4.23</td>\n",
       "      <td>2.63</td>\n",
       "      <td>0</td>\n",
       "      <td>0</td>\n",
       "      <td>...</td>\n",
       "      <td>1</td>\n",
       "      <td>0</td>\n",
       "      <td>0</td>\n",
       "      <td>0</td>\n",
       "      <td>0</td>\n",
       "      <td>0</td>\n",
       "      <td>0</td>\n",
       "      <td>1</td>\n",
       "      <td>0</td>\n",
       "      <td>0</td>\n",
       "    </tr>\n",
       "    <tr>\n",
       "      <th>4</th>\n",
       "      <td>5</td>\n",
       "      <td>0.31</td>\n",
       "      <td>63.3</td>\n",
       "      <td>58.0</td>\n",
       "      <td>335</td>\n",
       "      <td>4.34</td>\n",
       "      <td>4.35</td>\n",
       "      <td>2.75</td>\n",
       "      <td>0</td>\n",
       "      <td>1</td>\n",
       "      <td>...</td>\n",
       "      <td>0</td>\n",
       "      <td>1</td>\n",
       "      <td>0</td>\n",
       "      <td>0</td>\n",
       "      <td>0</td>\n",
       "      <td>1</td>\n",
       "      <td>0</td>\n",
       "      <td>0</td>\n",
       "      <td>0</td>\n",
       "      <td>0</td>\n",
       "    </tr>\n",
       "  </tbody>\n",
       "</table>\n",
       "<p>5 rows × 28 columns</p>\n",
       "</div>"
      ],
      "text/plain": [
       "   Unnamed: 0  weight  depth(percentage)  table  price  length  width  depth  \\\n",
       "0           1    0.23               61.5   55.0    326    3.95   3.98   2.43   \n",
       "1           2    0.21               59.8   61.0    326    3.89   3.84   2.31   \n",
       "2           3    0.23               56.9   65.0    327    4.05   4.07   2.31   \n",
       "3           4    0.29               62.4   58.0    334    4.20   4.23   2.63   \n",
       "4           5    0.31               63.3   58.0    335    4.34   4.35   2.75   \n",
       "\n",
       "   quality_Fair  quality_Good  ...  color_I  color_J  clarity_I1  clarity_IF  \\\n",
       "0             0             0  ...        0        0           0           0   \n",
       "1             0             0  ...        0        0           0           0   \n",
       "2             0             1  ...        0        0           0           0   \n",
       "3             0             0  ...        1        0           0           0   \n",
       "4             0             1  ...        0        1           0           0   \n",
       "\n",
       "   clarity_SI1  clarity_SI2  clarity_VS1  clarity_VS2  clarity_VVS1  \\\n",
       "0            0            1            0            0             0   \n",
       "1            1            0            0            0             0   \n",
       "2            0            0            1            0             0   \n",
       "3            0            0            0            1             0   \n",
       "4            0            1            0            0             0   \n",
       "\n",
       "   clarity_VVS2  \n",
       "0             0  \n",
       "1             0  \n",
       "2             0  \n",
       "3             0  \n",
       "4             0  \n",
       "\n",
       "[5 rows x 28 columns]"
      ]
     },
     "execution_count": 19,
     "metadata": {},
     "output_type": "execute_result"
    }
   ],
   "source": [
    "diamond.head()"
   ]
  },
  {
   "cell_type": "markdown",
   "id": "5473e308",
   "metadata": {},
   "source": [
    "**Baseline model**"
   ]
  },
  {
   "cell_type": "code",
   "execution_count": 20,
   "id": "7937a650",
   "metadata": {},
   "outputs": [
    {
     "data": {
      "text/plain": [
       "0.918937511828123"
      ]
     },
     "execution_count": 20,
     "metadata": {},
     "output_type": "execute_result"
    }
   ],
   "source": [
    "from sklearn.linear_model import Ridge\n",
    "from sklearn.model_selection import train_test_split\n",
    "\n",
    "# Set up random seed\n",
    "np.random.seed(42)\n",
    "\n",
    "# Create data\n",
    "X = diamond.drop(columns=[\"Unnamed: 0\", \"price\"])\n",
    "y = diamond[\"price\"]\n",
    "\n",
    "# Split data\n",
    "X_train, X_test, y_train, y_test = train_test_split(X, y, test_size=0.2)\n",
    "\n",
    "# Instantiate the model\n",
    "clf = Ridge()\n",
    "\n",
    "# Fit the model\n",
    "clf.fit(X_train, y_train)\n",
    "\n",
    "# Score\n",
    "clf.score(X_test, y_test)"
   ]
  },
  {
   "cell_type": "code",
   "execution_count": 21,
   "id": "6e3843c5",
   "metadata": {},
   "outputs": [],
   "source": [
    "# Make predictions\n",
    "y_preds = clf.predict(X_test)"
   ]
  },
  {
   "cell_type": "code",
   "execution_count": 22,
   "id": "66eb7443",
   "metadata": {},
   "outputs": [
    {
     "name": "stdout",
     "output_type": "stream",
     "text": [
      "1388      559\n",
      "50052    2201\n",
      "41645    1238\n",
      "42377    1304\n",
      "17244    6901\n",
      "Name: price, dtype: int64 [ 707.84649952 3193.32229117 1947.17390709 2077.60514468 9877.56176404]\n"
     ]
    }
   ],
   "source": [
    "print(y_test[:5], y_preds[:5])"
   ]
  },
  {
   "cell_type": "markdown",
   "id": "157f6481",
   "metadata": {},
   "source": [
    "**Evaluating the model**"
   ]
  },
  {
   "cell_type": "code",
   "execution_count": 23,
   "id": "0b0ae3b3",
   "metadata": {},
   "outputs": [
    {
     "data": {
      "text/plain": [
       "{'r2': 91.89, 'MAE': 737.41, 'MSE': 1288635.9}"
      ]
     },
     "execution_count": 23,
     "metadata": {},
     "output_type": "execute_result"
    }
   ],
   "source": [
    "# Create an evaluation function\n",
    "from sklearn.metrics import mean_absolute_error, mean_squared_error, r2_score\n",
    "\n",
    "def evaluate_pred(y_test, y_pred):\n",
    "    r2 = r2_score(y_test, y_pred) \n",
    "    mae = mean_absolute_error(y_test, y_pred)\n",
    "    mse = mean_squared_error(y_test, y_pred)\n",
    "    \n",
    "    metrics = {\n",
    "        \"r2\": round((r2 * 100), 2),\n",
    "        \"MAE\": round(mae,2),\n",
    "        \"MSE\": round(mse, 2)\n",
    "    }\n",
    "    \n",
    "    return metrics\n",
    "\n",
    "baseline_metrics = evaluate_pred(y_test, y_preds)\n",
    "baseline_metrics"
   ]
  },
  {
   "cell_type": "markdown",
   "id": "293c06eb",
   "metadata": {},
   "source": [
    "**Improving the model**"
   ]
  },
  {
   "cell_type": "markdown",
   "id": "16139cc6",
   "metadata": {},
   "source": [
    "We will scale the data then use the gridsearchcv."
   ]
  },
  {
   "cell_type": "code",
   "execution_count": 37,
   "id": "2934def9",
   "metadata": {},
   "outputs": [],
   "source": [
    "from sklearn.model_selection import GridSearchCV\n",
    "from sklearn.pipeline import Pipeline\n",
    "from sklearn.preprocessing import StandardScaler\n",
    "\n",
    "np.random.seed(42)\n",
    "\n",
    "# Create data\n",
    "X = diamond.drop(columns=[\"Unnamed: 0\", \"price\"])\n",
    "y = diamond[\"price\"]\n",
    "\n",
    "# Split data\n",
    "X_train, X_test, y_train, y_test = train_test_split(X, y, test_size=0.2)\n",
    "\n",
    "# Instantiate the model\n",
    "ridge = Ridge()\n",
    "\n",
    "# Instantiate the pipeline model\n",
    "pipe = Pipeline(steps=[\n",
    "    (\"scaler\", StandardScaler()),\n",
    "    (\"ridge\", ridge)\n",
    "])\n",
    "\n",
    "# Grid of parameters\n",
    "grid = {\n",
    "    \"ridge__alpha\": np.arange(1,10)}\n",
    "\n",
    "# Instantiate the GridSearchCV version of our model\n",
    "gsv_clf_ridge = GridSearchCV(pipe, grid, cv=5)\n",
    "\n",
    "# Fit the model \n",
    "gsv_clf_ridge.fit(X_train, y_train);"
   ]
  },
  {
   "cell_type": "code",
   "execution_count": 44,
   "id": "60cc17bc",
   "metadata": {},
   "outputs": [
    {
     "data": {
      "text/plain": [
       "{'ridge__alpha': 9}"
      ]
     },
     "execution_count": 44,
     "metadata": {},
     "output_type": "execute_result"
    }
   ],
   "source": [
    "gsv_clf_ridge.best_params_"
   ]
  },
  {
   "cell_type": "code",
   "execution_count": 39,
   "id": "84e706eb",
   "metadata": {},
   "outputs": [
    {
     "data": {
      "text/plain": [
       "{'r2': 91.89, 'MAE': 738.0, 'MSE': 1288609.63}"
      ]
     },
     "execution_count": 39,
     "metadata": {},
     "output_type": "execute_result"
    }
   ],
   "source": [
    "# Make predictions with it\n",
    "gscv_ridge_pred = gsv_clf_ridge.predict(X_test)\n",
    "\n",
    "# Evaluate it\n",
    "gscv_ridge_metrics = evaluate_pred(y_test, gscv_ridge_pred)\n",
    "gscv_ridge_metrics"
   ]
  },
  {
   "cell_type": "markdown",
   "id": "9961c2c5",
   "metadata": {},
   "source": [
    "### 2. Using `Lasso Regression`"
   ]
  },
  {
   "cell_type": "code",
   "execution_count": 43,
   "id": "bffbc1ba",
   "metadata": {},
   "outputs": [
    {
     "data": {
      "text/plain": [
       "0.9189706046286295"
      ]
     },
     "execution_count": 43,
     "metadata": {},
     "output_type": "execute_result"
    }
   ],
   "source": [
    "from sklearn.linear_model import Lasso\n",
    "\n",
    "np.random.seed(42)\n",
    "\n",
    "# Create data\n",
    "X = diamond.drop(columns=[\"Unnamed: 0\", \"price\"])\n",
    "y = diamond[\"price\"]\n",
    "\n",
    "# Split data\n",
    "X_train, X_test, y_train, y_test = train_test_split(X, y, test_size=0.2)\n",
    "\n",
    "# Instantiate the model\n",
    "clf = Lasso()\n",
    "\n",
    "# Fit the model\n",
    "clf.fit(X_train, y_train)\n",
    "\n",
    "# Score\n",
    "clf.score(X_test, y_test)"
   ]
  },
  {
   "cell_type": "code",
   "execution_count": 48,
   "id": "281f95de",
   "metadata": {},
   "outputs": [
    {
     "data": {
      "text/plain": [
       "{'r2': 91.9, 'MAE': 736.01, 'MSE': 1288109.83}"
      ]
     },
     "execution_count": 48,
     "metadata": {},
     "output_type": "execute_result"
    }
   ],
   "source": [
    "y_preds = clf.predict(X_test)\n",
    "\n",
    "# Evaluate\n",
    "lasso_metrics = evaluate_pred(y_test, y_preds)\n",
    "lasso_metrics"
   ]
  },
  {
   "cell_type": "markdown",
   "id": "92b72a5b",
   "metadata": {},
   "source": [
    "**Improving the Lasso model**"
   ]
  },
  {
   "cell_type": "code",
   "execution_count": 49,
   "id": "512c6f56",
   "metadata": {},
   "outputs": [],
   "source": [
    "from sklearn.model_selection import GridSearchCV\n",
    "from sklearn.pipeline import Pipeline\n",
    "from sklearn.preprocessing import StandardScaler\n",
    "\n",
    "np.random.seed(42)\n",
    "\n",
    "# Create data\n",
    "X = diamond.drop(columns=[\"Unnamed: 0\", \"price\"])\n",
    "y = diamond[\"price\"]\n",
    "\n",
    "# Split data\n",
    "X_train, X_test, y_train, y_test = train_test_split(X, y, test_size=0.2)\n",
    "\n",
    "# Instantiate the model\n",
    "lasso = Lasso()\n",
    "\n",
    "# Instantiate the pipeline model\n",
    "pipe = Pipeline(steps=[\n",
    "    (\"scaler\", StandardScaler()),\n",
    "    (\"lasso\", lasso)\n",
    "])\n",
    "\n",
    "# Grid of parameters\n",
    "grid = {\n",
    "    \"lasso__alpha\": np.arange(1,10)}\n",
    "\n",
    "# Instantiate the GridSearchCV version of our model\n",
    "gsv_clf_lasso = GridSearchCV(pipe, grid, cv=5)\n",
    "\n",
    "# Fit the model \n",
    "gsv_clf_lasso.fit(X_train, y_train);"
   ]
  },
  {
   "cell_type": "code",
   "execution_count": 50,
   "id": "3580fd9f",
   "metadata": {},
   "outputs": [
    {
     "data": {
      "text/plain": [
       "{'r2': 91.9, 'MAE': 737.84, 'MSE': 1288437.32}"
      ]
     },
     "execution_count": 50,
     "metadata": {},
     "output_type": "execute_result"
    }
   ],
   "source": [
    "# Make predictions with it\n",
    "gscv_lasso_pred = gsv_clf_lasso.predict(X_test)\n",
    "\n",
    "# Evaluate it\n",
    "gscv_lasso_metrics = evaluate_pred(y_test, gscv_lasso_pred)\n",
    "gscv_lasso_metrics"
   ]
  },
  {
   "cell_type": "markdown",
   "id": "81702377",
   "metadata": {},
   "source": [
    "### 3. Using `RandomForestRegressor`"
   ]
  },
  {
   "cell_type": "code",
   "execution_count": 40,
   "id": "6f2e815c",
   "metadata": {},
   "outputs": [
    {
     "data": {
      "text/plain": [
       "0.9808164717754314"
      ]
     },
     "execution_count": 40,
     "metadata": {},
     "output_type": "execute_result"
    }
   ],
   "source": [
    "from sklearn.ensemble import RandomForestRegressor\n",
    "\n",
    "np.random.seed(42)\n",
    "\n",
    "# Create data\n",
    "X = diamond.drop(columns=[\"Unnamed: 0\", \"price\"])\n",
    "y = diamond[\"price\"]\n",
    "\n",
    "# Split data\n",
    "X_train, X_test, y_train, y_test = train_test_split(X, y, test_size=0.2)\n",
    "\n",
    "# Instantiate the model\n",
    "clf = RandomForestRegressor()\n",
    "\n",
    "# Fit the model\n",
    "clf.fit(X_train, y_train)\n",
    "\n",
    "# Score\n",
    "clf.score(X_test, y_test)"
   ]
  },
  {
   "cell_type": "code",
   "execution_count": 41,
   "id": "1ffccf8d",
   "metadata": {},
   "outputs": [
    {
     "data": {
      "text/plain": [
       "{'r2': 98.08, 'MAE': 270.74, 'MSE': 304957.12}"
      ]
     },
     "execution_count": 41,
     "metadata": {},
     "output_type": "execute_result"
    }
   ],
   "source": [
    "# Make predictions\n",
    "y_pred = clf.predict(X_test)\n",
    "\n",
    "# Evaluation\n",
    "regressor_metrics = evaluate_pred(y_test, y_pred)\n",
    "regressor_metrics"
   ]
  },
  {
   "cell_type": "code",
   "execution_count": 51,
   "id": "74da2d7f",
   "metadata": {},
   "outputs": [
    {
     "data": {
      "text/html": [
       "<div>\n",
       "<style scoped>\n",
       "    .dataframe tbody tr th:only-of-type {\n",
       "        vertical-align: middle;\n",
       "    }\n",
       "\n",
       "    .dataframe tbody tr th {\n",
       "        vertical-align: top;\n",
       "    }\n",
       "\n",
       "    .dataframe thead th {\n",
       "        text-align: right;\n",
       "    }\n",
       "</style>\n",
       "<table border=\"1\" class=\"dataframe\">\n",
       "  <thead>\n",
       "    <tr style=\"text-align: right;\">\n",
       "      <th></th>\n",
       "      <th>ridge</th>\n",
       "      <th>grid_ridge</th>\n",
       "      <th>lasso</th>\n",
       "      <th>grid_lasso</th>\n",
       "      <th>random forest</th>\n",
       "    </tr>\n",
       "  </thead>\n",
       "  <tbody>\n",
       "    <tr>\n",
       "      <th>r2</th>\n",
       "      <td>91.89</td>\n",
       "      <td>91.89</td>\n",
       "      <td>91.90</td>\n",
       "      <td>91.90</td>\n",
       "      <td>98.08</td>\n",
       "    </tr>\n",
       "    <tr>\n",
       "      <th>MAE</th>\n",
       "      <td>737.41</td>\n",
       "      <td>738.00</td>\n",
       "      <td>736.01</td>\n",
       "      <td>737.84</td>\n",
       "      <td>270.74</td>\n",
       "    </tr>\n",
       "    <tr>\n",
       "      <th>MSE</th>\n",
       "      <td>1288635.90</td>\n",
       "      <td>1288609.63</td>\n",
       "      <td>1288109.83</td>\n",
       "      <td>1288437.32</td>\n",
       "      <td>304957.12</td>\n",
       "    </tr>\n",
       "  </tbody>\n",
       "</table>\n",
       "</div>"
      ],
      "text/plain": [
       "          ridge  grid_ridge       lasso  grid_lasso  random forest\n",
       "r2        91.89       91.89       91.90       91.90          98.08\n",
       "MAE      737.41      738.00      736.01      737.84         270.74\n",
       "MSE  1288635.90  1288609.63  1288109.83  1288437.32      304957.12"
      ]
     },
     "execution_count": 51,
     "metadata": {},
     "output_type": "execute_result"
    }
   ],
   "source": [
    "metrics = pd.DataFrame({\"ridge\": baseline_metrics,\n",
    "                       \"grid_ridge\": gscv_ridge_metrics,\n",
    "                        \"lasso\": lasso_metrics,\n",
    "                        \"grid_lasso\": gscv_lasso_metrics,\n",
    "                       \"random forest\": regressor_metrics})\n",
    "metrics"
   ]
  },
  {
   "cell_type": "markdown",
   "id": "e5287dfb",
   "metadata": {},
   "source": [
    "Clearly `RandomForestRegressor` is better than the `Ridge Regression` and `Lasso Regression` in predicting since it has a higher accuracy score and a lower mean absolute error."
   ]
  }
 ],
 "metadata": {
  "kernelspec": {
   "display_name": "Python 3 (ipykernel)",
   "language": "python",
   "name": "python3"
  },
  "language_info": {
   "codemirror_mode": {
    "name": "ipython",
    "version": 3
   },
   "file_extension": ".py",
   "mimetype": "text/x-python",
   "name": "python",
   "nbconvert_exporter": "python",
   "pygments_lexer": "ipython3",
   "version": "3.9.12"
  }
 },
 "nbformat": 4,
 "nbformat_minor": 5
}
